{
 "cells": [
  {
   "cell_type": "code",
   "execution_count": 1,
   "metadata": {},
   "outputs": [],
   "source": [
    "import requests\n",
    "from bs4 import BeautifulSoup\n",
    "import pandas as pd"
   ]
  },
  {
   "cell_type": "code",
   "execution_count": null,
   "metadata": {},
   "outputs": [],
   "source": [
    "response = requests.get(\"https://en.wikipedia.org/wiki/List_of_Nobel_laureates\")\n",
    "response"
   ]
  },
  {
   "cell_type": "code",
   "execution_count": null,
   "metadata": {},
   "outputs": [],
   "source": [
    "soup = BeautifulSoup(response.text, \"html.parser\")\n",
    "soup"
   ]
  },
  {
   "cell_type": "code",
   "execution_count": 51,
   "metadata": {},
   "outputs": [],
   "source": [
    "#Main container\n",
    "main_container = soup.find(\"tbody\").find_all(\"tr\")\n",
    "#Year\n",
    "year = main_container[1].find(\"th\").text.strip()\n",
    "#Physics\n",
    "physics = main_container[1].find_all(\"td\")[0].text.strip().replace(\";\", \" & \")\n",
    "#Chemistry\n",
    "chemistry = main_container[1].find_all(\"td\")[1].text.strip().replace(\";\", \" & \")\n",
    "#Physiology and medicine\n",
    "physiology = main_container[1].find_all(\"td\")[2].text.strip().replace(\";\", \" & \")\n",
    "#Literature\n",
    "literature = main_container[1].find_all(\"td\")[3].text.strip().replace(\";\", \" & \")\n",
    "#Peace\n",
    "peace = main_container[1].find_all(\"td\")[4].text.strip().replace(\";\", \" & \")\n",
    "#Economics\n",
    "economics = main_container[1].find_all(\"td\")[5].text.strip().replace(\";\", \" & \")\n"
   ]
  },
  {
   "cell_type": "code",
   "execution_count": null,
   "metadata": {},
   "outputs": [],
   "source": [
    "with open(\"Nobel prize.csv\", mode= \"w\", encoding= \"utf-8\") as file:\n",
    "    file.write(\"Year,Physics,Chemistry,Physiology,Literature,Peace,Economics\\n\")\n",
    "    main_container = soup.find(\"tbody\").find_all(\"tr\")\n",
    "    for i in range(1, (len(main_container)-1)):\n",
    "        #Year\n",
    "        year = main_container[i].find(\"th\").text.strip()\n",
    "        #Physics\n",
    "        try:\n",
    "            physics = main_container[i].find_all(\"td\")[0].text.strip().replace(\";\", \" & \")\n",
    "        except: \n",
    "            print(\"None\")\n",
    "        #Chemistry\n",
    "        try:\n",
    "            chemistry = main_container[i].find_all(\"td\")[1].text.strip().replace(\";\", \" & \")\n",
    "        except: \n",
    "            print(\"None\")\n",
    "        #Physiology and medicine\n",
    "        try:\n",
    "            physiology = main_container[i].find_all(\"td\")[2].text.strip().replace(\";\", \" & \")\n",
    "        except: \n",
    "            print(\"None\")\n",
    "        #Literature\n",
    "        try:\n",
    "            literature = main_container[i].find_all(\"td\")[3].text.strip().replace(\";\", \" & \")\n",
    "        except: \n",
    "            print(\"None\")\n",
    "        #Peace\n",
    "        try:\n",
    "            peace = main_container[i].find_all(\"td\")[4].text.strip().replace(\";\", \" & \")\n",
    "        except: \n",
    "            print(\"None\")\n",
    "        #Economics\n",
    "        try:\n",
    "            economics = main_container[i].find_all(\"td\")[5].text.strip().replace(\";\", \" & \")\n",
    "        except: \n",
    "            print(\"None\")\n",
    "        \n",
    "        file.write(f\"{year},\\\"{physics}\\\",\\\"{chemistry}\\\",\\\"{physiology}\\\",\\\"{literature}\\\",\\\"{peace}\\\",\\\"{economics}\\\"\\n\")\n"
   ]
  },
  {
   "cell_type": "code",
   "execution_count": null,
   "metadata": {},
   "outputs": [],
   "source": [
    "df = pd.read_csv('Nobel prize.csv')\n",
    "df"
   ]
  },
  {
   "cell_type": "code",
   "execution_count": null,
   "metadata": {},
   "outputs": [],
   "source": []
  }
 ],
 "metadata": {
  "kernelspec": {
   "display_name": "machine_learning",
   "language": "python",
   "name": "python3"
  },
  "language_info": {
   "codemirror_mode": {
    "name": "ipython",
    "version": 3
   },
   "file_extension": ".py",
   "mimetype": "text/x-python",
   "name": "python",
   "nbconvert_exporter": "python",
   "pygments_lexer": "ipython3",
   "version": "3.9.19"
  }
 },
 "nbformat": 4,
 "nbformat_minor": 2
}
